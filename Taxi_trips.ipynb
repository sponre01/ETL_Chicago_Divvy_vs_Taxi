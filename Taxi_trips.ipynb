{
 "cells": [
  {
   "cell_type": "code",
   "execution_count": 53,
   "metadata": {},
   "outputs": [],
   "source": [
    "#!/usr/bin/env python\n",
    "\n",
    "# make sure to install these packages before running:\n",
    "#!pip install pandas\n",
    "#!pip install sodapy\n",
    "\n",
    "import pandas as pd\n",
    "from sodapy import Socrata\n",
    "import numpy as np\n",
    "import requests\n",
    "from config import api_key \n"
   ]
  },
  {
   "cell_type": "code",
   "execution_count": 54,
   "metadata": {},
   "outputs": [
    {
     "data": {
      "text/plain": [
       "'dropoff_census_tract, dropoff_community_area, pickup_census_tract, pickup_community_area, trip_end_timestamp, trip_id, trip_miles, trip_seconds, trip_start_timestamp, trip_total'"
      ]
     },
     "execution_count": 54,
     "metadata": {},
     "output_type": "execute_result"
    }
   ],
   "source": [
    "select = [ 'dropoff_census_tract', \n",
    "       'dropoff_community_area', \n",
    "       'pickup_census_tract', \n",
    "       'pickup_community_area', \n",
    "       'trip_end_timestamp', 'trip_id', 'trip_miles', 'trip_seconds',\n",
    "       'trip_start_timestamp', 'trip_total']\n",
    "select_string = \"\"\n",
    "for cat in select:\n",
    "    select_string += cat\n",
    "    if select[-1]  != cat:\n",
    "        select_string += ', '\n",
    "select_string"
   ]
  },
  {
   "cell_type": "code",
   "execution_count": 55,
   "metadata": {},
   "outputs": [],
   "source": [
    "\n",
    "client = Socrata(\"data.cityofchicago.org\",api_key)\n",
    "\n"
   ]
  },
  {
   "cell_type": "code",
   "execution_count": 56,
   "metadata": {},
   "outputs": [],
   "source": [
    "\n",
    "results = client.get(\"wrvz-psew\", where=\"trip_start_timestamp between '2016-09-01' and '2017-09-01' and dropoff_community_area<>76 and pickup_community_area <> 76 \",\n",
    "                    select=select_string ,limit=1000000)\n",
    "\n",
    "\n",
    "# Convert to pandas DataFrame\n",
    "results_census_trac_df = pd.DataFrame.from_records(results)   \n"
   ]
  },
  {
   "cell_type": "code",
   "execution_count": null,
   "metadata": {},
   "outputs": [],
   "source": [
    "results_census_trac_df = results_census_trac_df.dropna(axis=0)"
   ]
  },
  {
   "cell_type": "code",
   "execution_count": 50,
   "metadata": {},
   "outputs": [
    {
     "data": {
      "text/plain": [
       "1000000"
      ]
     },
     "execution_count": 50,
     "metadata": {},
     "output_type": "execute_result"
    }
   ],
   "source": [
    "# remove timestamp\n",
    "taxi_trips=results_census_trac_df.drop(columns=[\"trip_start_timestamp\", \"trip_end_timestamp\"])\n",
    "len(taxi_trips)"
   ]
  },
  {
   "cell_type": "code",
   "execution_count": 51,
   "metadata": {},
   "outputs": [],
   "source": [
    "taxi_trips = pd.DataFrame.from_records(taxi_trips)"
   ]
  },
  {
   "cell_type": "code",
   "execution_count": 52,
   "metadata": {},
   "outputs": [
    {
     "data": {
      "text/plain": [
       "Index(['dropoff_census_tract', 'dropoff_community_area', 'pickup_census_tract',\n",
       "       'pickup_community_area', 'trip_id', 'trip_miles', 'trip_seconds',\n",
       "       'trip_total'],\n",
       "      dtype='object')"
      ]
     },
     "execution_count": 52,
     "metadata": {},
     "output_type": "execute_result"
    }
   ],
   "source": [
    "taxi_trips.columns"
   ]
  }
 ],
 "metadata": {
  "kernelspec": {
   "display_name": "Python 3",
   "language": "python",
   "name": "python3"
  },
  "language_info": {
   "codemirror_mode": {
    "name": "ipython",
    "version": 3
   },
   "file_extension": ".py",
   "mimetype": "text/x-python",
   "name": "python",
   "nbconvert_exporter": "python",
   "pygments_lexer": "ipython3",
   "version": "3.7.0"
  }
 },
 "nbformat": 4,
 "nbformat_minor": 2
}
